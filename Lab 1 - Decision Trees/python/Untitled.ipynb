{
 "cells": [
  {
   "cell_type": "code",
   "execution_count": 1,
   "metadata": {},
   "outputs": [],
   "source": [
    "import dtree\n",
    "import monkdata as m"
   ]
  },
  {
   "cell_type": "code",
   "execution_count": 3,
   "metadata": {},
   "outputs": [
    {
     "name": "stdout",
     "output_type": "stream",
     "text": [
      "monk1:  1.0\n",
      "monk2:  0.957117428264771\n",
      "monk3:  0.9998061328047111\n"
     ]
    }
   ],
   "source": [
    "entropy1 = dtree.entropy(m.monk1)\n",
    "entropy2 = dtree.entropy(m.monk2)\n",
    "entropy3 = dtree.entropy(m.monk3)\n",
    "\n",
    "print('monk1: ', entropy1)\n",
    "print('monk2: ', entropy2)\n",
    "print('monk3: ', entropy3)"
   ]
  },
  {
   "cell_type": "code",
   "execution_count": null,
   "metadata": {},
   "outputs": [],
   "source": []
  }
 ],
 "metadata": {
  "kernelspec": {
   "display_name": "Python 3",
   "language": "python",
   "name": "python3"
  },
  "language_info": {
   "codemirror_mode": {
    "name": "ipython",
    "version": 3
   },
   "file_extension": ".py",
   "mimetype": "text/x-python",
   "name": "python",
   "nbconvert_exporter": "python",
   "pygments_lexer": "ipython3",
   "version": "3.7.3"
  }
 },
 "nbformat": 4,
 "nbformat_minor": 2
}
