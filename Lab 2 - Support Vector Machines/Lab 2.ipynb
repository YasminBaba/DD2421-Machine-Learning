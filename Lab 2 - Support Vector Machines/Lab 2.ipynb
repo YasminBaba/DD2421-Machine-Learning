{
 "cells": [
  {
   "cell_type": "code",
   "execution_count": 1,
   "metadata": {},
   "outputs": [],
   "source": [
    "import numpy , random , math\n",
    "from scipy.optimize import minimize \n",
    "import matplotlib.pyplot as plt"
   ]
  },
  {
   "cell_type": "code",
   "execution_count": 21,
   "metadata": {},
   "outputs": [],
   "source": [
    "numpy.random.seed(100)\n",
    "classA = numpy.concatenate(\n",
    "    (numpy.random.randn(10, 2) * 0.2 + [1.5, 0.5],\n",
    "     numpy.random.randn(10, 2) * 0.2 + [-1.5, 0.5]))\n",
    "classB = numpy.random.randn(20, 2) * 0.2 + [0.0 , -0.5]\n",
    "\n",
    "inputs = numpy.concatenate((classA, classB))\n",
    "targets = numpy.concatenate(\n",
    "    (numpy.ones(classA.shape[0]),\n",
    "     -numpy.ones(classB.shape[0])))\n",
    "\n",
    "N = inputs.shape[0]\n",
    "\n",
    "permute = list(range(N))\n",
    "random.shuffle(permute)\n",
    "inputs = inputs[permute, :]\n",
    "targets = targets[permute]"
   ]
  },
  {
   "cell_type": "code",
   "execution_count": 22,
   "metadata": {},
   "outputs": [],
   "source": [
    "#Kernel Functions\n",
    "p = 2\n",
    "sigma = 0.2\n",
    "\n",
    "def linearKernel(x ,y):\n",
    "    return numpy.dot(x, y)\n",
    "\n",
    "def polynomialKernel(x, y):\n",
    "    return (numpy.dot(x, y) + 1)**p\n",
    "\n",
    "def radialKernel(x, y):\n",
    "    distance = numpy.linalg.norm(x - y)\n",
    "    return math.exp(-(distance**2)/(2*(sigma**2)))\n",
    "\n",
    "kernel = radialKernel"
   ]
  },
  {
   "cell_type": "code",
   "execution_count": 23,
   "metadata": {},
   "outputs": [],
   "source": [
    "#Pre-compute P matrix\n",
    "pMatrix = numpy.zeros((N, N))\n",
    "for i in range(N):\n",
    "    for j in range(N):\n",
    "        pMatrix[i][j] = targets[i]*targets[j]*kernel(inputs[i], inputs[j])    "
   ]
  },
  {
   "cell_type": "code",
   "execution_count": 24,
   "metadata": {},
   "outputs": [],
   "source": [
    "#Objective Funtion\n",
    "def objective(alpha):\n",
    "    return (1/2)*numpy.dot(alpha, numpy.dot(alpha, pMatrix)) - numpy.sum(alpha)"
   ]
  },
  {
   "cell_type": "code",
   "execution_count": 25,
   "metadata": {},
   "outputs": [],
   "source": [
    "#zerofun Function\n",
    "def zerofun(alpha):\n",
    "    return numpy.dot(alpha, targets)"
   ]
  },
  {
   "cell_type": "code",
   "execution_count": 26,
   "metadata": {},
   "outputs": [],
   "source": [
    "#Minimize\n",
    "start = numpy.zeros(N)\n",
    "C = 10000\n",
    "B = [(0, None) for b in range(N)] #no slack\n",
    "#B = [(0, C) for b in range(N)] #with slack\n",
    "XC = {'type':'eq', 'fun':zerofun}\n",
    "\n",
    "ret = minimize(objective, start, bounds=B, constraints=XC)"
   ]
  },
  {
   "cell_type": "code",
   "execution_count": 27,
   "metadata": {},
   "outputs": [],
   "source": [
    "#Extract non zero alphas\n",
    "alpha = ret['x']\n",
    "nonZeroAlphas = []\n",
    "\n",
    "e = pow(10, -5)\n",
    "\n",
    "for i in range(N):\n",
    "    if abs(alpha[i]) > e:\n",
    "        nonZeroAlphas.append([alpha[i], inputs[i], targets[i]])"
   ]
  },
  {
   "cell_type": "code",
   "execution_count": 28,
   "metadata": {},
   "outputs": [],
   "source": [
    "#b\n",
    "bSum = 0\n",
    "for i in nonZeroAlphas:\n",
    "    bSum += i[0]* i[2] * kernel(i[1], nonZeroAlphas[0][1])\n",
    "b = bSum - nonZeroAlphas[0][2]"
   ]
  },
  {
   "cell_type": "code",
   "execution_count": 29,
   "metadata": {},
   "outputs": [],
   "source": [
    "#Indicator\n",
    "def ind(x, y):\n",
    "    indSum = 0\n",
    "    for i in nonZeroAlphas:\n",
    "        indSum += i[0]* i[2] * kernel([x, y], i[1])\n",
    "    return indSum - b"
   ]
  },
  {
   "cell_type": "code",
   "execution_count": 30,
   "metadata": {},
   "outputs": [
    {
     "data": {
      "image/png": "[encoded data removed]",
      "text/plain": [
       "<Figure size 432x288 with 1 Axes>"
      ]
     },
     "metadata": {
      "needs_background": "light"
     },
     "output_type": "display_data"
    }
   ],
   "source": [
    "plt.plot([p[0] for p in classA], [p[1] for p in classA], 'b.')\n",
    "plt.plot([p[0] for p in classB], [p[1] for p in classB], 'r.')\n",
    "\n",
    "xgrid = numpy.linspace(-5, 5)\n",
    "ygrid = numpy.linspace(-4, 4)\n",
    "grid = numpy.array([[ind(x, y) for x in xgrid] for y in ygrid])\n",
    "plt.contour(xgrid, ygrid, grid, (-1.0, 0.0, 1.0), colors = ('red', 'black', 'blue'), linewidths = (1, 3, 1))\n",
    "#plt.axis('equal')\n",
    "plt.savefig('NoSlackRegular.pdf')\n",
    "plt.show()"
   ]
  },
  {
   "cell_type": "code",
   "execution_count": null,
   "metadata": {},
   "outputs": [],
   "source": []
  },
  {
   "cell_type": "code",
   "execution_count": null,
   "metadata": {},
   "outputs": [],
   "source": []
  }
 ],
 "metadata": {
  "kernelspec": {
   "display_name": "Python 3",
   "language": "python",
   "name": "python3"
  },
  "language_info": {
   "codemirror_mode": {
    "name": "ipython",
    "version": 3
   },
   "file_extension": ".py",
   "mimetype": "text/x-python",
   "name": "python",
   "nbconvert_exporter": "python",
   "pygments_lexer": "ipython3",
   "version": "3.7.3"
  }
 },
 "nbformat": 4,
 "nbformat_minor": 2
}
